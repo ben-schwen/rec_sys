{
 "cells": [
  {
   "cell_type": "markdown",
   "metadata": {
    "deletable": false,
    "editable": false,
    "nbgrader": {
     "cell_type": "markdown",
     "checksum": "49fbe7614ddef1080dc510fe5a0745eb",
     "grade": false,
     "grade_id": "cell-1b77a17f49ad3b84",
     "locked": true,
     "schema_version": 3,
     "solution": false
    }
   },
   "source": [
    "# Assignment 1\n",
    "Welcome to the first assignment! Here you will implement User-User Collaborative Filtering. We will use the MovieLens 20M dataset.\n",
    "\n",
    "You will write and execute your code in Python using this Jupyter Notebook.\n",
    "\n",
    "**PREREQUISITE:** Download the MovieLens 20M dataset from <https://grouplens.org/datasets/movielens/20m/>. Extract the contents and look up `ratings.csv`, which is what we'll be working with.\n",
    "\n",
    "**TASK:** Your job is to *fill in the missing code* only. The place to enter your code is clearly marked with comments.\n",
    "\n",
    "**SUBMISSION:** You will submit this Notebook via TUWEL (without the movielens folder!).\n",
    "\n",
    "**GRADING:** We will test whether your code produces the expected output. Therefore hidden tests will compare results of the standard solution with yours (based on the whole dataset - multiple, randomly selected inputs - accuracy of the sulution must be within two decimal places).\n",
    "\n",
    "Note that there is a variable `DEBUG` set to `True` for debugging/testing purposes. This creates a small, more manageable subset of the data to work with."
   ]
  },
  {
   "cell_type": "markdown",
   "metadata": {
    "deletable": false,
    "editable": false,
    "nbgrader": {
     "cell_type": "markdown",
     "checksum": "0d6d2d49b9c4adace21960e7a2e1a506",
     "grade": false,
     "grade_id": "cell-6fd72fd060475aee",
     "locked": true,
     "schema_version": 3,
     "solution": false
    }
   },
   "source": [
    "## Preparation"
   ]
  },
  {
   "cell_type": "markdown",
   "metadata": {
    "deletable": false,
    "editable": false,
    "nbgrader": {
     "cell_type": "markdown",
     "checksum": "0af888df1fd588ac78b1ba18f8f7eead",
     "grade": false,
     "grade_id": "cell-f5c0b4acbd7f5bf6",
     "locked": true,
     "schema_version": 3,
     "solution": false
    }
   },
   "source": [
    "### Import modules\n",
    "Import python modules we will be using. Generally you should not import additional modules."
   ]
  },
  {
   "cell_type": "code",
   "execution_count": 1,
   "metadata": {
    "deletable": false,
    "editable": false,
    "nbgrader": {
     "cell_type": "code",
     "checksum": "a812a12a7c3f1297d2df8629bec8f202",
     "grade": false,
     "grade_id": "cell-39505ec63194a941",
     "locked": true,
     "schema_version": 3,
     "solution": false
    }
   },
   "outputs": [],
   "source": [
    "import csv\n",
    "import pandas as pd\n",
    "import numpy as np\n",
    "from scipy import sparse as sp\n",
    "from scipy.sparse.linalg import norm\n",
    "import sklearn.preprocessing as pp"
   ]
  },
  {
   "cell_type": "markdown",
   "metadata": {
    "deletable": false,
    "editable": false,
    "nbgrader": {
     "cell_type": "markdown",
     "checksum": "85ebef54f209b55e9dd7a54eff07ea5b",
     "grade": false,
     "grade_id": "cell-7f94d267382ef3de",
     "locked": true,
     "schema_version": 3,
     "solution": false
    }
   },
   "source": [
    "Set some formatting options."
   ]
  },
  {
   "cell_type": "code",
   "execution_count": 2,
   "metadata": {
    "deletable": false,
    "editable": false,
    "nbgrader": {
     "cell_type": "code",
     "checksum": "36674579b5655d073d13af17d5f488de",
     "grade": false,
     "grade_id": "cell-bc5e1a6bf4d07786",
     "locked": true,
     "schema_version": 3,
     "solution": false
    }
   },
   "outputs": [],
   "source": [
    "np.set_printoptions(threshold=500, precision=4)\n",
    "pd.options.display.max_seq_items = 100\n",
    "%precision 4\n",
    "\n",
    "%load_ext autoreload\n",
    "%autoreload 2"
   ]
  },
  {
   "cell_type": "markdown",
   "metadata": {
    "deletable": false,
    "editable": false,
    "nbgrader": {
     "cell_type": "markdown",
     "checksum": "c46b514928d03a0644484fd5bb60cad7",
     "grade": false,
     "grade_id": "cell-004865cf50a278ac",
     "locked": true,
     "schema_version": 3,
     "solution": false
    }
   },
   "source": [
    "### Read the data\n",
    "Load data from csv file `ratings.csv`. The result is stored in a `pandas.DataFrame` called `ratings_raw`."
   ]
  },
  {
   "cell_type": "code",
   "execution_count": 3,
   "metadata": {},
   "outputs": [],
   "source": [
    "data_location = '../data/ratings.csv' ## location of ratings.csv"
   ]
  },
  {
   "cell_type": "code",
   "execution_count": null,
   "metadata": {
    "deletable": false,
    "editable": false,
    "nbgrader": {
     "cell_type": "code",
     "checksum": "62bbf7bde640ab12da2a12c7273a62fd",
     "grade": true,
     "grade_id": "data_location",
     "locked": true,
     "points": 0,
     "schema_version": 3,
     "solution": false,
     "task": false
    }
   },
   "outputs": [],
   "source": []
  },
  {
   "cell_type": "code",
   "execution_count": 4,
   "metadata": {
    "deletable": false,
    "editable": false,
    "nbgrader": {
     "cell_type": "code",
     "checksum": "5113685f9dcdbc5c125a44c602437fa3",
     "grade": false,
     "grade_id": "cell-c0d12759c5d4c217",
     "locked": true,
     "schema_version": 3,
     "solution": false,
     "task": false
    }
   },
   "outputs": [],
   "source": [
    "ratings_raw = pd.read_csv(data_location)"
   ]
  },
  {
   "cell_type": "markdown",
   "metadata": {
    "deletable": false,
    "editable": false,
    "nbgrader": {
     "cell_type": "markdown",
     "checksum": "d88cd74065a8929d85fa1fed29599115",
     "grade": false,
     "grade_id": "cell-738b45c5f4b259eb",
     "locked": true,
     "schema_version": 3,
     "solution": false
    }
   },
   "source": [
    "### Truncate the data\n",
    "\n",
    "For debugging, let's work with a *truncated* version of the data, containing up to 10000 users and 1000 movies. "
   ]
  },
  {
   "cell_type": "code",
   "execution_count": 5,
   "metadata": {},
   "outputs": [],
   "source": [
    "DEBUG = True"
   ]
  },
  {
   "cell_type": "code",
   "execution_count": null,
   "metadata": {
    "deletable": false,
    "editable": false,
    "nbgrader": {
     "cell_type": "code",
     "checksum": "4a0b46e474af99e806d44ad74c90f559",
     "grade": true,
     "grade_id": "set_debug",
     "locked": true,
     "points": 0,
     "schema_version": 3,
     "solution": false
    }
   },
   "outputs": [],
   "source": [
    "# Hidden"
   ]
  },
  {
   "cell_type": "code",
   "execution_count": 6,
   "metadata": {
    "deletable": false,
    "editable": false,
    "nbgrader": {
     "cell_type": "code",
     "checksum": "37b2a84384469a5d0636d57474493469",
     "grade": false,
     "grade_id": "cell-39411e9d62029d05",
     "locked": true,
     "schema_version": 3,
     "solution": false
    }
   },
   "outputs": [],
   "source": [
    "if DEBUG: \n",
    "    ratings_raw = ratings_raw[ (ratings_raw['userId'] < 10000) & (ratings_raw['movieId'] < 1000) ]"
   ]
  },
  {
   "cell_type": "markdown",
   "metadata": {
    "deletable": false,
    "editable": false,
    "nbgrader": {
     "cell_type": "markdown",
     "checksum": "d630cc58ebba6bb849fbfe234221e76c",
     "grade": false,
     "grade_id": "cell-85dd8323711bdc6d",
     "locked": true,
     "schema_version": 3,
     "solution": false
    }
   },
   "source": [
    "Let's see how the data looks like."
   ]
  },
  {
   "cell_type": "code",
   "execution_count": 7,
   "metadata": {
    "deletable": false,
    "editable": false,
    "nbgrader": {
     "cell_type": "code",
     "checksum": "f43efd9b7dd5c81767e6e82b096150a4",
     "grade": false,
     "grade_id": "cell-4eb320886ccf1bec",
     "locked": true,
     "schema_version": 3,
     "solution": false
    }
   },
   "outputs": [
    {
     "data": {
      "text/html": [
       "<div>\n",
       "<style scoped>\n",
       "    .dataframe tbody tr th:only-of-type {\n",
       "        vertical-align: middle;\n",
       "    }\n",
       "\n",
       "    .dataframe tbody tr th {\n",
       "        vertical-align: top;\n",
       "    }\n",
       "\n",
       "    .dataframe thead th {\n",
       "        text-align: right;\n",
       "    }\n",
       "</style>\n",
       "<table border=\"1\" class=\"dataframe\">\n",
       "  <thead>\n",
       "    <tr style=\"text-align: right;\">\n",
       "      <th></th>\n",
       "      <th>userId</th>\n",
       "      <th>movieId</th>\n",
       "      <th>rating</th>\n",
       "      <th>timestamp</th>\n",
       "    </tr>\n",
       "  </thead>\n",
       "  <tbody>\n",
       "    <tr>\n",
       "      <th>0</th>\n",
       "      <td>1</td>\n",
       "      <td>2</td>\n",
       "      <td>3.5</td>\n",
       "      <td>1112486027</td>\n",
       "    </tr>\n",
       "    <tr>\n",
       "      <th>1</th>\n",
       "      <td>1</td>\n",
       "      <td>29</td>\n",
       "      <td>3.5</td>\n",
       "      <td>1112484676</td>\n",
       "    </tr>\n",
       "    <tr>\n",
       "      <th>2</th>\n",
       "      <td>1</td>\n",
       "      <td>32</td>\n",
       "      <td>3.5</td>\n",
       "      <td>1112484819</td>\n",
       "    </tr>\n",
       "    <tr>\n",
       "      <th>3</th>\n",
       "      <td>1</td>\n",
       "      <td>47</td>\n",
       "      <td>3.5</td>\n",
       "      <td>1112484727</td>\n",
       "    </tr>\n",
       "    <tr>\n",
       "      <th>4</th>\n",
       "      <td>1</td>\n",
       "      <td>50</td>\n",
       "      <td>3.5</td>\n",
       "      <td>1112484580</td>\n",
       "    </tr>\n",
       "  </tbody>\n",
       "</table>\n",
       "</div>"
      ],
      "text/plain": [
       "   userId  movieId  rating   timestamp\n",
       "0       1        2     3.5  1112486027\n",
       "1       1       29     3.5  1112484676\n",
       "2       1       32     3.5  1112484819\n",
       "3       1       47     3.5  1112484727\n",
       "4       1       50     3.5  1112484580"
      ]
     },
     "metadata": {},
     "output_type": "display_data"
    }
   ],
   "source": [
    "display(ratings_raw.head())"
   ]
  },
  {
   "cell_type": "markdown",
   "metadata": {
    "deletable": false,
    "editable": false,
    "nbgrader": {
     "cell_type": "markdown",
     "checksum": "c86c7cc36506f055466d97ac48dac92f",
     "grade": false,
     "grade_id": "cell-0907e6dd1eadf9e3",
     "locked": true,
     "schema_version": 3,
     "solution": false
    }
   },
   "source": [
    "### Preprocess the data\n",
    "Make sure that movies and users have consecutive indexes starting from 0. Also drop the timestamp column.\n",
    "\n",
    "The resulting \"cleaned\" data are stored in `ratings`."
   ]
  },
  {
   "cell_type": "code",
   "execution_count": 8,
   "metadata": {
    "deletable": false,
    "editable": false,
    "nbgrader": {
     "cell_type": "code",
     "checksum": "56531a41e7e89c5def020a0cb90a0ea5",
     "grade": false,
     "grade_id": "cell-e477abc50954e513",
     "locked": true,
     "schema_version": 3,
     "solution": false
    }
   },
   "outputs": [
    {
     "name": "stdout",
     "output_type": "stream",
     "text": [
      "There are 9924 users, 968 items and 394638 ratings.\n"
     ]
    },
    {
     "data": {
      "text/html": [
       "<div>\n",
       "<style scoped>\n",
       "    .dataframe tbody tr th:only-of-type {\n",
       "        vertical-align: middle;\n",
       "    }\n",
       "\n",
       "    .dataframe tbody tr th {\n",
       "        vertical-align: top;\n",
       "    }\n",
       "\n",
       "    .dataframe thead th {\n",
       "        text-align: right;\n",
       "    }\n",
       "</style>\n",
       "<table border=\"1\" class=\"dataframe\">\n",
       "  <thead>\n",
       "    <tr style=\"text-align: right;\">\n",
       "      <th></th>\n",
       "      <th>user</th>\n",
       "      <th>item</th>\n",
       "      <th>rating</th>\n",
       "    </tr>\n",
       "  </thead>\n",
       "  <tbody>\n",
       "    <tr>\n",
       "      <th>0</th>\n",
       "      <td>0</td>\n",
       "      <td>1</td>\n",
       "      <td>3.5</td>\n",
       "    </tr>\n",
       "    <tr>\n",
       "      <th>1</th>\n",
       "      <td>0</td>\n",
       "      <td>28</td>\n",
       "      <td>3.5</td>\n",
       "    </tr>\n",
       "    <tr>\n",
       "      <th>2</th>\n",
       "      <td>0</td>\n",
       "      <td>31</td>\n",
       "      <td>3.5</td>\n",
       "    </tr>\n",
       "    <tr>\n",
       "      <th>3</th>\n",
       "      <td>0</td>\n",
       "      <td>46</td>\n",
       "      <td>3.5</td>\n",
       "    </tr>\n",
       "    <tr>\n",
       "      <th>4</th>\n",
       "      <td>0</td>\n",
       "      <td>49</td>\n",
       "      <td>3.5</td>\n",
       "    </tr>\n",
       "  </tbody>\n",
       "</table>\n",
       "</div>"
      ],
      "text/plain": [
       "   user  item  rating\n",
       "0     0     1     3.5\n",
       "1     0    28     3.5\n",
       "2     0    31     3.5\n",
       "3     0    46     3.5\n",
       "4     0    49     3.5"
      ]
     },
     "metadata": {},
     "output_type": "display_data"
    }
   ],
   "source": [
    "movieIds = ratings_raw.movieId.unique()\n",
    "movieIds.sort()\n",
    "userIds = ratings_raw.userId.unique()\n",
    "userIds.sort()\n",
    "\n",
    "m = userIds.size\n",
    "n = movieIds.size\n",
    "numRatings = len(ratings_raw)\n",
    "\n",
    "print (\"There are\", m, \"users,\", n, \"items and\", numRatings, \"ratings.\")\n",
    "\n",
    "\n",
    "## create internal ids for movies and users, that have consecutive indexes starting from 0\n",
    "movieId_to_movieIDX = dict(zip(movieIds, range(0, movieIds.size)))\n",
    "movieIDX_to_movieId = dict(zip(range(0, movieIds.size), movieIds))\n",
    "\n",
    "userId_to_userIDX = dict(zip(userIds, range(0, userIds.size )))\n",
    "userIDX_to_userId = dict(zip(range(0, userIds.size), userIds))\n",
    "\n",
    "## drop timestamps\n",
    "ratings = pd.concat([ratings_raw['userId'].map(userId_to_userIDX), ratings_raw['movieId'].map(movieId_to_movieIDX), ratings_raw['rating']], axis=1)\n",
    "ratings.columns = ['user', 'item', 'rating']\n",
    "\n",
    "display(ratings.head())"
   ]
  },
  {
   "cell_type": "markdown",
   "metadata": {
    "deletable": false,
    "editable": false,
    "nbgrader": {
     "cell_type": "markdown",
     "checksum": "8db27745eff0843ac7a70cf39ca4407d",
     "grade": false,
     "grade_id": "cell-af1cacd1caf92af4",
     "locked": true,
     "schema_version": 3,
     "solution": false
    }
   },
   "source": [
    "### Create the Ratings Matrix\n",
    "\n",
    "We will convert the `ratings` `DataFrame` into a **Ratings Matrix**. Because it is very sparse, we will use the `scipy.sparse` module to efficiently store and access it.\n",
    "\n",
    "Specifically, we will create two versions of the same ratings matrix:\n",
    "- `R` is our basic matrix and is optimized for dot products, which will be useful when computing user-user similarities; `R` is stored in the Compressed Sparse Row format (`csr_matrix`).\n",
    "- `R_dok` is a different view of the ratings matrix, which allows to quickly test whether a user-item rating exists; `R_dok` is stored in the Dictionary Of Keys format (`dok_matrix`)."
   ]
  },
  {
   "cell_type": "code",
   "execution_count": 9,
   "metadata": {
    "deletable": false,
    "editable": false,
    "nbgrader": {
     "cell_type": "code",
     "checksum": "f6eefd2367bceca6c702eb92161c0868",
     "grade": false,
     "grade_id": "cell-bb736f4ed565f8aa",
     "locked": true,
     "schema_version": 3,
     "solution": false
    }
   },
   "outputs": [],
   "source": [
    "R = sp.csr_matrix((ratings.rating, (ratings.user, ratings.item)))\n",
    "R_dok = R.todok()"
   ]
  },
  {
   "cell_type": "code",
   "execution_count": 10,
   "metadata": {
    "deletable": false,
    "editable": false,
    "nbgrader": {
     "cell_type": "code",
     "checksum": "0c317c636bd313b16845ae9483ac7b20",
     "grade": false,
     "grade_id": "cell-ad201b0e0982d15c",
     "locked": true,
     "schema_version": 3,
     "solution": false
    }
   },
   "outputs": [
    {
     "name": "stdout",
     "output_type": "stream",
     "text": [
      "There are 9924 users, 968 items and 394638 ratings.\n"
     ]
    }
   ],
   "source": [
    "m = R.shape[0]\n",
    "n = R.shape[1]\n",
    "numRatings = R.count_nonzero()\n",
    "\n",
    "print(\"There are\", m, \"users,\", n, \"items and\", numRatings, \"ratings.\")"
   ]
  },
  {
   "cell_type": "markdown",
   "metadata": {
    "deletable": false,
    "editable": false,
    "nbgrader": {
     "cell_type": "markdown",
     "checksum": "05b7d158562ee87b699d23e421743377",
     "grade": false,
     "grade_id": "cell-dd7beae4bffde172",
     "locked": true,
     "schema_version": 3,
     "solution": false
    }
   },
   "source": [
    "## The fun starts here!"
   ]
  },
  {
   "cell_type": "markdown",
   "metadata": {
    "deletable": false,
    "editable": false,
    "nbgrader": {
     "cell_type": "markdown",
     "checksum": "1df1e24a72f6aa3f16dc8661fd7397fb",
     "grade": false,
     "grade_id": "cell-82149612d690542e",
     "locked": true,
     "schema_version": 3,
     "solution": false
    }
   },
   "source": [
    "### User Average Ratings"
   ]
  },
  {
   "cell_type": "markdown",
   "metadata": {
    "deletable": false,
    "editable": false,
    "nbgrader": {
     "cell_type": "markdown",
     "checksum": "43a0e74b3b41801f1842da5663556b79",
     "grade": false,
     "grade_id": "cell-a6433745230c2035",
     "locked": true,
     "schema_version": 3,
     "solution": false
    }
   },
   "source": [
    "The following code computes the average rating of each user. This will be used for mean-centering, i.e., when computing similarities, as well as for making predictions."
   ]
  },
  {
   "cell_type": "code",
   "execution_count": 11,
   "metadata": {
    "deletable": false,
    "editable": false,
    "nbgrader": {
     "cell_type": "code",
     "checksum": "b1d3d77d0e75d4405188eb036e7ce0b6",
     "grade": false,
     "grade_id": "cell-fc34b6a91b8cf5e0",
     "locked": true,
     "schema_version": 3,
     "solution": false
    }
   },
   "outputs": [
    {
     "name": "stdout",
     "output_type": "stream",
     "text": [
      "user_avgs [3.6667 4.2857 4.0588 ... 3.3441 3.2368 4.2333]\n"
     ]
    }
   ],
   "source": [
    "user_sums = R.sum(axis=1).A1 ## matrix converted to 1-D array via .A1\n",
    "user_cnts = (R != 0).sum(axis=1).A1\n",
    "user_avgs = user_sums / user_cnts\n",
    "print(\"user_avgs\", user_avgs)"
   ]
  },
  {
   "cell_type": "markdown",
   "metadata": {
    "deletable": false,
    "editable": false,
    "nbgrader": {
     "cell_type": "markdown",
     "checksum": "da07fb525a7bdd6e45dcfe06136098c5",
     "grade": false,
     "grade_id": "cell-aa1ce964fa726672",
     "locked": true,
     "schema_version": 3,
     "solution": false
    }
   },
   "source": [
    "### User-User Similarity --- TO EDIT\n",
    "\n",
    "The following function computes the mean-centered cosine similarity between two users.\n",
    "\n",
    "*Tricks* that might be useful:\n",
    "\n",
    "To subtract a scalar value `y` from all nonzero entries of a sparse vector `x`, do:\n",
    "```\n",
    "x.data = x.data - y\n",
    "```\n",
    "\n",
    "The dot product of a sparse vector `x` to sparse vector `y` is:\n",
    "```\n",
    "x.dot(y.T)\n",
    "```\n",
    "\n",
    "The norm of a sparse vector `x` is:\n",
    "```\n",
    "norm(x)\n",
    "```\n",
    "\n",
    "\n",
    "If a sparse vector `x` has only a single item, you can access it by:\n",
    "```\n",
    "x.A.item()\n",
    "```\n",
    "\n",
    "Note that `x.A` returns the dense representation of sparse vector `x`."
   ]
  },
  {
   "cell_type": "code",
   "execution_count": 12,
   "metadata": {
    "deletable": false,
    "nbgrader": {
     "cell_type": "code",
     "checksum": "2b0e4f42f533ea674ef86a452a5c258c",
     "grade": false,
     "grade_id": "compute_pairwise_user_similarity",
     "locked": false,
     "schema_version": 3,
     "solution": true
    }
   },
   "outputs": [],
   "source": [
    "def compute_pairwise_user_similarity(u_id, v_id):\n",
    "    u = R[u_id,:].copy()\n",
    "    v = R[v_id,:].copy()\n",
    "    \n",
    "    # YOUR CODE HERE\n",
    "    \n",
    "    # mean center u and v\n",
    "    u.data = u.data - user_avgs[u_id]\n",
    "    v.data = v.data - user_avgs[v_id]\n",
    "    \n",
    "    \n",
    "    # we calculate cosine similarity\n",
    "    # cos(u,v) = <u,v> / (||u||,||v||)\n",
    "    \n",
    "    numerator = u.dot(v.T).A.item()\n",
    "    denominator = np.linalg.norm(u.data) * np.linalg.norm(v.data)\n",
    "    \n",
    "    if denominator == 0:\n",
    "        similarity = 0.;\n",
    "    else:\n",
    "        similarity = numerator/denominator\n",
    "    \n",
    "    return similarity"
   ]
  },
  {
   "cell_type": "code",
   "execution_count": 13,
   "metadata": {
    "deletable": false,
    "editable": false,
    "nbgrader": {
     "cell_type": "code",
     "checksum": "3c7633b4f66eaad36acc2f23cf3bc142",
     "grade": false,
     "grade_id": "cell-8b5945d4a3470613",
     "locked": true,
     "schema_version": 3,
     "solution": false,
     "task": false
    }
   },
   "outputs": [
    {
     "data": {
      "text/plain": [
       "0.035854994610888584"
      ]
     },
     "metadata": {},
     "output_type": "display_data"
    }
   ],
   "source": [
    "if DEBUG:\n",
    "    display(compute_pairwise_user_similarity(2, 6))"
   ]
  },
  {
   "cell_type": "markdown",
   "metadata": {
    "deletable": false,
    "editable": false,
    "nbgrader": {
     "cell_type": "markdown",
     "checksum": "2452877bb9bf5e3441a2dacb00878478",
     "grade": false,
     "grade_id": "cell-8ff198e3dea0c6cf",
     "locked": true,
     "schema_version": 3,
     "solution": false
    }
   },
   "source": [
    "**DEBUG:** For the truncated dataset, the following should output sth like `0.0359`."
   ]
  },
  {
   "cell_type": "code",
   "execution_count": null,
   "metadata": {
    "deletable": false,
    "editable": false,
    "nbgrader": {
     "cell_type": "code",
     "checksum": "1d3ddb3edf034e6d9da972e1a892e3cb",
     "grade": true,
     "grade_id": "cell-291b4900dd5042a2",
     "locked": true,
     "points": 0,
     "schema_version": 3,
     "solution": false,
     "task": false
    }
   },
   "outputs": [],
   "source": [
    "# Hidden"
   ]
  },
  {
   "cell_type": "code",
   "execution_count": null,
   "metadata": {
    "deletable": false,
    "editable": false,
    "nbgrader": {
     "cell_type": "code",
     "checksum": "4095ef4fb694eb190740963ae8232b5f",
     "grade": true,
     "grade_id": "compute_pairwise_user_similarity-tests",
     "locked": true,
     "points": 1,
     "schema_version": 3,
     "solution": false
    }
   },
   "outputs": [],
   "source": [
    "# Hidden"
   ]
  },
  {
   "cell_type": "markdown",
   "metadata": {
    "deletable": false,
    "editable": false,
    "nbgrader": {
     "cell_type": "markdown",
     "checksum": "17ec41debddb9701c6771deabdfb6264",
     "grade": false,
     "grade_id": "cell-e8e57bec37959182",
     "locked": true,
     "schema_version": 3,
     "solution": false
    }
   },
   "source": [
    "### User to all Users Similarities --- TO EDIT\n",
    "\n",
    "The following function computes the mean-centered cosine similarities of a given user to all other users.\n",
    "\n",
    "You should use the `compute_pairwise_user_similarity` function defined above.\n",
    "\n",
    "\n",
    "You will get a **bonus point**, if you can avoid the for loop and not invoke `compute_pairwise_user_similarity`. The idea is to obtain a copy, say `R_copy`, of matrix `R` that has its rows mean-centered and normalized. This way the given user can be represented by a mean-centered and normalized vector `u`. Then, to obtain the similarity of the user to all others, one needs to take the dot product `R_copy.dot(u.T)`. "
   ]
  },
  {
   "cell_type": "code",
   "execution_count": 14,
   "metadata": {},
   "outputs": [
    {
     "data": {
      "text/plain": [
       "array([5, 7, 9])"
      ]
     },
     "execution_count": 14,
     "metadata": {},
     "output_type": "execute_result"
    }
   ],
   "source": [
    "import numpy as np\n",
    "x = np.array([[1,2,3],[4,5,6]])\n",
    "x.sum(axis=0)"
   ]
  },
  {
   "cell_type": "code",
   "execution_count": 15,
   "metadata": {},
   "outputs": [],
   "source": [
    "y = np.array([[1,2],[3,4]])"
   ]
  },
  {
   "cell_type": "code",
   "execution_count": 16,
   "metadata": {},
   "outputs": [
    {
     "data": {
      "text/plain": [
       "array([[1, 2],\n",
       "       [3, 4]])"
      ]
     },
     "execution_count": 16,
     "metadata": {},
     "output_type": "execute_result"
    }
   ],
   "source": [
    "y"
   ]
  },
  {
   "cell_type": "code",
   "execution_count": 17,
   "metadata": {},
   "outputs": [
    {
     "data": {
      "text/plain": [
       "array([ 5, 11])"
      ]
     },
     "execution_count": 17,
     "metadata": {},
     "output_type": "execute_result"
    }
   ],
   "source": [
    "y.dot(y[0].T)"
   ]
  },
  {
   "cell_type": "code",
   "execution_count": 18,
   "metadata": {},
   "outputs": [
    {
     "data": {
      "text/plain": [
       "array([ 5, 11])"
      ]
     },
     "execution_count": 18,
     "metadata": {},
     "output_type": "execute_result"
    }
   ],
   "source": [
    "y @ y[0]"
   ]
  },
  {
   "cell_type": "code",
   "execution_count": 19,
   "metadata": {},
   "outputs": [],
   "source": [
    "import numpy as np\n",
    "from scipy.sparse import csr_matrix\n",
    "\n",
    "row = np.array([0, 0, 1, 2, 2, 2])\n",
    "col = np.array([0, 2, 2, 0, 1, 2])\n",
    "data = np.array([1, 2, 3, 4, 5, 6])\n",
    "X = csr_matrix((data, (row, col)), shape=(3, 3))"
   ]
  },
  {
   "cell_type": "code",
   "execution_count": 20,
   "metadata": {
    "deletable": false,
    "nbgrader": {
     "cell_type": "code",
     "checksum": "6150b986bf28e968a6bb96091cf5dea3",
     "grade": false,
     "grade_id": "compute_user_similarities",
     "locked": false,
     "schema_version": 3,
     "solution": true
    }
   },
   "outputs": [],
   "source": [
    "def compute_user_similarities(u_id):\n",
    "    uU = np.empty((m,))\n",
    "    \n",
    "    R_copy = R.copy()\n",
    "    \n",
    "    # centering\n",
    "    # [elem for i, elem in enumerate(user_avgs) for j in range(user_cnts[i])] is the same as np.repeat\n",
    "    \n",
    "    R_copy.data = R_copy.data - np.repeat(user_avgs, user_cnts)\n",
    "\n",
    "    \n",
    "    # np.repeat(array, cnt)\n",
    "    # repeats the n-th element of array, cnt[n] times\n",
    "    # since R is in csr format, it stores cnt[i] entries for row[i]\n",
    "    \n",
    "    \n",
    "    # normalizing \n",
    "    # first_way -> jackhammer method\n",
    "    # R2 = R_copy.copy()\n",
    "    # R2.data = R2.data * R2.data\n",
    "    # user_means = np.sqrt(R2.sum(axis=1).A1)\n",
    "    \n",
    "    # R_copy.multiply(R_copy) is slower than R_copy.power(2)...\n",
    "    \n",
    "    user_means = np.sqrt(R_copy.power(2).sum(1)).A1\n",
    "    \n",
    "    # set scaling of rows with 0 zero to 0\n",
    "    zero_index = user_means == 0\n",
    "    user_means[zero_index] = 1\n",
    "    user_scales = 1 / user_means\n",
    "    user_scales[zero_index] = 0\n",
    "\n",
    "    # scaling with matrix multiplication is slower than scaling pure data\n",
    "    # user_scales = sp.csr_matrix(np.matrix(user_scales).T)\n",
    "    # R_copy = R_copy.multiply(user_scales)\n",
    "    \n",
    "    R_copy.data = R_copy.data * np.repeat(user_scales, user_cnts)\n",
    "    \n",
    "    uU = (R_copy.dot(R_copy[u_id,:].T)).A.flatten()\n",
    "    \n",
    "    ##############################\n",
    "    ## Mat.dot(Vec.T) is actually same as Mat @ Vec.T\n",
    "    ##############################\n",
    "    \n",
    "    \n",
    "    # YOUR CODE HERE\n",
    "    #for i in range(uU.size):\n",
    "    #    uU[i] = compute_pairwise_user_similarity(u_id, i)\n",
    "    \n",
    "    #raise NotImplementedError()\n",
    "    \n",
    "    return uU"
   ]
  },
  {
   "cell_type": "code",
   "execution_count": 21,
   "metadata": {
    "deletable": false,
    "editable": false,
    "nbgrader": {
     "cell_type": "code",
     "checksum": "2686879bc153b3fe7a396219c024ca52",
     "grade": false,
     "grade_id": "cell-a28b8faece3b1860",
     "locked": true,
     "schema_version": 3,
     "solution": false,
     "task": false
    }
   },
   "outputs": [
    {
     "data": {
      "text/plain": [
       "0.0358549946108886"
      ]
     },
     "metadata": {},
     "output_type": "display_data"
    }
   ],
   "source": [
    "if DEBUG:\n",
    "    uU = compute_user_similarities(2)\n",
    "    display(uU[6])"
   ]
  },
  {
   "cell_type": "markdown",
   "metadata": {
    "deletable": false,
    "editable": false,
    "nbgrader": {
     "cell_type": "markdown",
     "checksum": "7947857bff209747dc11ed60e26cfc13",
     "grade": false,
     "grade_id": "cell-a0c566704d8cce44",
     "locked": true,
     "schema_version": 3,
     "solution": false
    }
   },
   "source": [
    "**DEBUG:** For the truncated dataset, the following should again output `0.0359`."
   ]
  },
  {
   "cell_type": "code",
   "execution_count": null,
   "metadata": {
    "deletable": false,
    "editable": false,
    "nbgrader": {
     "cell_type": "code",
     "checksum": "482a3d071262b975d54eb126f8cd0d36",
     "grade": true,
     "grade_id": "cell-f11c21a4eebae3c8",
     "locked": true,
     "points": 0,
     "schema_version": 3,
     "solution": false,
     "task": false
    }
   },
   "outputs": [],
   "source": [
    "# Hidden"
   ]
  },
  {
   "cell_type": "code",
   "execution_count": null,
   "metadata": {
    "deletable": false,
    "editable": false,
    "jupyter": {
     "outputs_hidden": true
    },
    "nbgrader": {
     "cell_type": "code",
     "checksum": "11bab95de101e4aea85cd4f69dff8d5e",
     "grade": true,
     "grade_id": "compute_user_similarities-test",
     "locked": true,
     "points": 1,
     "schema_version": 3,
     "solution": false
    }
   },
   "outputs": [],
   "source": [
    "# Hidden"
   ]
  },
  {
   "cell_type": "code",
   "execution_count": null,
   "metadata": {
    "deletable": false,
    "editable": false,
    "nbgrader": {
     "cell_type": "code",
     "checksum": "83aa67240d47ea505d90dea584c6564b",
     "grade": true,
     "grade_id": "compute_user_similarities-bonus",
     "locked": true,
     "points": 1,
     "schema_version": 3,
     "solution": false
    }
   },
   "outputs": [],
   "source": [
    "# Hidden"
   ]
  },
  {
   "cell_type": "markdown",
   "metadata": {
    "deletable": false,
    "editable": false,
    "nbgrader": {
     "cell_type": "markdown",
     "checksum": "2a760fddfc6f1b360e95a474d2759244",
     "grade": false,
     "grade_id": "cell-30331d6bae1fb4f7",
     "locked": true,
     "schema_version": 3,
     "solution": false
    }
   },
   "source": [
    "### Create User Neighborhood --- TO EDIT"
   ]
  },
  {
   "cell_type": "markdown",
   "metadata": {
    "deletable": false,
    "editable": false,
    "nbgrader": {
     "cell_type": "markdown",
     "checksum": "a3c4546bc1f0c2b41f7388d3c231ae0a",
     "grade": false,
     "grade_id": "cell-3197857236fc4037",
     "locked": true,
     "schema_version": 3,
     "solution": false
    }
   },
   "source": [
    "The following function creates the user neighborhood of a given user. It takes as input, the target user `u_id` and the target item`i_id`, and uses additional parameters, the size `k` of the neighborhood, and a flag `with_abs_sim`.\n",
    "\n",
    "If `with_abs_sim` is `True`, the neighborhood should contain up to `k` users with the highest absolute similarity to the target user `u_id`.\n",
    "\n",
    "If `with_abs_sim` is `False`, the neighborhood should contain up to `k` users with the highest similarity to the target user `u_id`.\n",
    "\n",
    "The output of the function is `nh`, a `Dictionary` containing key-value entries of the form `v_id : sim(u_id, v_id)`, where `v_id` is another user and `sim(u_id, v_id)` is the similarity between `u_id` and `v_id`.\n",
    "\n",
    "**Note:** The neighborhood of the target user should not contain itself, i.e., `u_id`, and only include users that have rated the target item `i_id`.\n",
    "\n",
    "\n",
    "*Tricks* that might be useful:\n",
    "\n",
    "`np.absolute(x)` returns an array containing the absolute values of each element in array `x`.\n",
    "\n",
    "`np.argsort(x)` returns an array with the indices that sort array `x` in *increasing* order.\n",
    "\n",
    "`x[::-1]` returns the reversed array of `x`. So, `np.argsort(x)[::-1]` contains the indices that sort x in *decreasing* order.\n",
    "\n",
    "To check if user `u_id` has rated item `i_id`, the `R_dok` view of the ratings matrix is helpful:\n",
    "```\n",
    "(u_id, i_id) in R_dok\n",
    "```"
   ]
  },
  {
   "cell_type": "code",
   "execution_count": 22,
   "metadata": {
    "deletable": false,
    "nbgrader": {
     "cell_type": "code",
     "checksum": "69adb97bb59f831d60ef5b9e0f4fc861",
     "grade": false,
     "grade_id": "create_user_neighborhood",
     "locked": false,
     "schema_version": 3,
     "solution": true
    }
   },
   "outputs": [],
   "source": [
    "## default values\n",
    "k = 5\n",
    "with_abs_sim = False\n",
    "\n",
    "def create_user_neighborhood(u_id, i_id):\n",
    "    nh = {} ## the neighborhood dict with (user id: similarity) entries\n",
    "    ## nh should not contain u_id and only include users that have rated i_id; there should be at most k neighbors\n",
    "    uU = compute_user_similarities(u_id)\n",
    "    uU_copy = uU.copy() ## so that we can modify it, but also keep the original\n",
    "    \n",
    "    # YOUR CODE HERE\n",
    "    uU_copy\n",
    "    \n",
    "    if with_abs_sim:\n",
    "        uU_copy = np.abs(uU_copy)\n",
    "    index = np.argsort(uU_copy)[::-1]\n",
    "    index = index[index != u_id]\n",
    "    \n",
    "    j = 0\n",
    "    for i in index:\n",
    "        if j >= k:\n",
    "            break\n",
    "        if (i, i_id) in R_dok:\n",
    "            nh[i] = uU[i]\n",
    "            j = j+1\n",
    "\n",
    "    #raise NotImplementedError()\n",
    "    \n",
    "    return nh"
   ]
  },
  {
   "cell_type": "code",
   "execution_count": 23,
   "metadata": {
    "deletable": false,
    "editable": false,
    "nbgrader": {
     "cell_type": "code",
     "checksum": "050ab5935519423af834a0906d8794d7",
     "grade": false,
     "grade_id": "cell-e621c9cfd39f2fa4",
     "locked": true,
     "schema_version": 3,
     "solution": false,
     "task": false
    }
   },
   "outputs": [
    {
     "name": "stdout",
     "output_type": "stream",
     "text": [
      "with_abs_sim False\n"
     ]
    },
    {
     "data": {
      "text/plain": [
       "{3439: 0.22132669799727472,\n",
       " 567: 0.21578253384096696,\n",
       " 8084: 0.190930997689841,\n",
       " 7883: 0.18261506018058077,\n",
       " 5352: 0.1798009794567785}"
      ]
     },
     "metadata": {},
     "output_type": "display_data"
    },
    {
     "name": "stdout",
     "output_type": "stream",
     "text": [
      "with_abs_sim True\n"
     ]
    },
    {
     "data": {
      "text/plain": [
       "{4850: -0.22736427873770565,\n",
       " 3439: 0.22132669799727472,\n",
       " 567: 0.21578253384096696,\n",
       " 8084: 0.190930997689841,\n",
       " 7883: 0.18261506018058077}"
      ]
     },
     "metadata": {},
     "output_type": "display_data"
    }
   ],
   "source": [
    "if DEBUG:\n",
    "    k = 5\n",
    "    with_abs_sim = False\n",
    "    nh = create_user_neighborhood(0, 8)\n",
    "    print(\"with_abs_sim\", with_abs_sim)\n",
    "    display(nh)\n",
    "    with_abs_sim = True\n",
    "    nh = create_user_neighborhood(0, 8)\n",
    "    print(\"with_abs_sim\", with_abs_sim)\n",
    "    display(nh)"
   ]
  },
  {
   "cell_type": "markdown",
   "metadata": {
    "deletable": false,
    "editable": false,
    "nbgrader": {
     "cell_type": "markdown",
     "checksum": "e4068dae96fc3c470454c24c02b12239",
     "grade": false,
     "grade_id": "cell-2ed7a62471cf1a56",
     "locked": true,
     "schema_version": 3,
     "solution": false
    }
   },
   "source": [
    "**DEBUG:** For the truncated dataset, the following should output sth like:\n",
    "```\n",
    "with_abs_sim False\n",
    "{567: 0.2158, 3439: 0.2213, 5352: 0.1798, 7883: 0.1826, 8084: 0.1909}\n",
    "with_abs_sim True\n",
    "{567: 0.2158, 3439: 0.2213, 4850: -0.2274, 7883: 0.1826, 8084: 0.1909}\n",
    "```"
   ]
  },
  {
   "cell_type": "code",
   "execution_count": null,
   "metadata": {
    "deletable": false,
    "editable": false,
    "nbgrader": {
     "cell_type": "code",
     "checksum": "5c62eb4d97baaf6d2c97bb9cef9167ee",
     "grade": true,
     "grade_id": "cell-cd4ccc4e6b629012",
     "locked": true,
     "points": 0,
     "schema_version": 3,
     "solution": false,
     "task": false
    }
   },
   "outputs": [],
   "source": [
    "# Hidden"
   ]
  },
  {
   "cell_type": "code",
   "execution_count": null,
   "metadata": {
    "deletable": false,
    "editable": false,
    "nbgrader": {
     "cell_type": "code",
     "checksum": "971a795cf6858c88316ecabaa42d8b4a",
     "grade": true,
     "grade_id": "create_user_neighborhood-test",
     "locked": true,
     "points": 1,
     "schema_version": 3,
     "solution": false
    }
   },
   "outputs": [],
   "source": [
    "# Hidden"
   ]
  },
  {
   "cell_type": "markdown",
   "metadata": {
    "deletable": false,
    "editable": false,
    "nbgrader": {
     "cell_type": "markdown",
     "checksum": "1c7f34f0b0c956b7c27b4482c346afb6",
     "grade": false,
     "grade_id": "cell-7c5b579aa65569ce",
     "locked": true,
     "schema_version": 3,
     "solution": false
    }
   },
   "source": [
    "### Predict a Rating --- TO EDIT"
   ]
  },
  {
   "cell_type": "markdown",
   "metadata": {
    "deletable": false,
    "editable": false,
    "nbgrader": {
     "cell_type": "markdown",
     "checksum": "199b6a75766161ed61339a976f235a48",
     "grade": false,
     "grade_id": "cell-9746a6cec2355002",
     "locked": true,
     "schema_version": 3,
     "solution": false
    }
   },
   "source": [
    "The following function predicts the rating user `u_id` would give to item `i_id`. It uses the flag `with_deviations` to make the prediction.\n",
    "\n",
    "If `with_deviations` is `True`, the prediction is made over *rating deviations*:\n",
    "$$ s(u,i) = \\overline{r_u} + \\frac{\\sum_{v \\in N(u;i)}w_{uv} (r_{vi}-\\overline{r_v})}{\\sum_{v \\in N(u;i)} |w_{uv}|} .$$\n",
    "\n",
    "If `with_deviations` is `False`, the prediction is made directly over ratings:\n",
    "$$ s(u,i) = \\frac{\\sum_{v \\in N(u;i)}w_{uv} r_{vi}}{\\sum_{v \\in N(u;i)} |w_{uv}|} .$$\n",
    "\n",
    "The output of the function is the predicted rating `prediction`."
   ]
  },
  {
   "cell_type": "code",
   "execution_count": 24,
   "metadata": {
    "deletable": false,
    "nbgrader": {
     "cell_type": "code",
     "checksum": "10619ad9f4c73846a98e6831b3cbe6ac",
     "grade": false,
     "grade_id": "predict_rating",
     "locked": false,
     "schema_version": 3,
     "solution": true
    }
   },
   "outputs": [],
   "source": [
    "## a default value\n",
    "with_deviations = True\n",
    "\n",
    "def predict_rating(u_id, i_id):\n",
    "    \n",
    "    if (u_id, i_id) in R_dok:\n",
    "        print(\"user\", u_id, \"has rated item\", i_id, \"with\", R[u_id, i_id])\n",
    "    else:\n",
    "        print(\"user\", u_id, \"has not rated item\", i_id)\n",
    "    print(\"k:\", k, \"with_deviations:\", with_deviations, \"with_abs_sim:\", with_abs_sim)\n",
    "    \n",
    "    \n",
    "    nh = create_user_neighborhood(u_id, i_id)\n",
    "    \n",
    "    neighborhood_weighted_avg = 0.\n",
    "\n",
    "   # YOUR CODE HERE\n",
    "    index = list(nh.keys())\n",
    "    v = R[index, i_id].copy()\n",
    "    \n",
    "    if with_deviations:\n",
    "        v.data = v.data - user_avgs[index]\n",
    "        \n",
    "    # vals are the similarity scores\n",
    "        \n",
    "    vals = np.fromiter(nh.values(), dtype='float')\n",
    "    neighborhood_weighted_avg = sum(v.data * vals) / sum(np.abs(vals))\n",
    "    \n",
    "    #raise NotImplementedError()\n",
    "    \n",
    "    if with_deviations:\n",
    "        prediction = user_avgs[u_id] + neighborhood_weighted_avg\n",
    "        print(f'prediction {prediction:.4f} (user_avg {user_avgs[u_id]:.4f} offset {neighborhood_weighted_avg:.4f})')\n",
    "    else:\n",
    "        prediction = neighborhood_weighted_avg\n",
    "        print(f'prediction {prediction:.4f} (user_avg {user_avgs[u_id]:.4f})')\n",
    "        \n",
    "    return prediction"
   ]
  },
  {
   "cell_type": "code",
   "execution_count": 25,
   "metadata": {
    "deletable": false,
    "editable": false,
    "nbgrader": {
     "cell_type": "code",
     "checksum": "c35a861672d706b056a9e052c807c790",
     "grade": false,
     "grade_id": "cell-a7e2f1f38387f57f",
     "locked": true,
     "schema_version": 3,
     "solution": false,
     "task": false
    }
   },
   "outputs": [
    {
     "name": "stdout",
     "output_type": "stream",
     "text": [
      "user 0 has not rated item 8\n",
      "k: 50 with_deviations: False with_abs_sim: True\n",
      "prediction 2.3544 (user_avg 3.6667)\n",
      "user 0 has not rated item 8\n",
      "k: 50 with_deviations: True with_abs_sim: True\n",
      "prediction 3.3064 (user_avg 3.6667 offset -0.3603)\n"
     ]
    }
   ],
   "source": [
    "if DEBUG:\n",
    "    k = 50\n",
    "    with_abs_sim = True\n",
    "    with_deviations = False\n",
    "    predict_rating(0, 8)\n",
    "    with_deviations = True\n",
    "    predict_rating(0, 8)"
   ]
  },
  {
   "cell_type": "markdown",
   "metadata": {
    "deletable": false,
    "editable": false,
    "nbgrader": {
     "cell_type": "markdown",
     "checksum": "155849ea6ac39c8127acf9698f55b599",
     "grade": false,
     "grade_id": "cell-dc072026038a28cd",
     "locked": true,
     "schema_version": 3,
     "solution": false
    }
   },
   "source": [
    "**DEBUG:** For the truncated dataset, the following should output sth like:\n",
    "```\n",
    "user 0 has not rated item 8\n",
    "k: 50 with_deviations: False with_abs_sim: True\n",
    "prediction 2.3544 (user_avg 3.6667)\n",
    "user 0 has not rated item 8\n",
    "k: 50 with_deviations: True with_abs_sim: True\n",
    "prediction 3.3064 (user_avg 3.6667 offset -0.3603)\n",
    "```"
   ]
  },
  {
   "cell_type": "code",
   "execution_count": null,
   "metadata": {
    "deletable": false,
    "editable": false,
    "nbgrader": {
     "cell_type": "code",
     "checksum": "2b4afa07c52781ec246f7232370555f9",
     "grade": true,
     "grade_id": "cell-3075b3460b163fc9",
     "locked": true,
     "points": 0,
     "schema_version": 3,
     "solution": false,
     "task": false
    }
   },
   "outputs": [],
   "source": [
    "# Hidden"
   ]
  },
  {
   "cell_type": "code",
   "execution_count": null,
   "metadata": {
    "deletable": false,
    "editable": false,
    "nbgrader": {
     "cell_type": "code",
     "checksum": "3b4f051c60816bf6151d6952bb340933",
     "grade": true,
     "grade_id": "predict_rating-test",
     "locked": true,
     "points": 2,
     "schema_version": 3,
     "solution": false
    }
   },
   "outputs": [],
   "source": [
    "# Hidden"
   ]
  },
  {
   "cell_type": "markdown",
   "metadata": {
    "deletable": false,
    "editable": false,
    "nbgrader": {
     "cell_type": "markdown",
     "checksum": "ba70e0dd8e342a95bcd65d2f5d504298",
     "grade": false,
     "grade_id": "cell-98fcbe266780d86f",
     "locked": true,
     "schema_version": 3,
     "solution": false
    }
   },
   "source": [
    "## Additional Tests\n",
    "\n",
    "For this part, **use the full dataset**, and not the truncated one."
   ]
  },
  {
   "cell_type": "code",
   "execution_count": null,
   "metadata": {
    "deletable": false,
    "editable": false,
    "nbgrader": {
     "cell_type": "code",
     "checksum": "11a40fb207e68b3507bedb40aef60fb2",
     "grade": false,
     "grade_id": "cell-b384924832dcec83",
     "locked": true,
     "schema_version": 3,
     "solution": false
    }
   },
   "outputs": [],
   "source": [
    "k = 50\n",
    "with_deviations = True\n",
    "with_abs_sim = True\n",
    "predict_rating(0, 8)\n",
    "%time predict_rating(22, 35)\n",
    "\n",
    "print(\"done!\")"
   ]
  },
  {
   "cell_type": "markdown",
   "metadata": {
    "deletable": false,
    "editable": false,
    "nbgrader": {
     "cell_type": "markdown",
     "checksum": "c12f97db478b719d68397636b9cf3b3b",
     "grade": false,
     "grade_id": "cell-ed0f894122ff89fa",
     "locked": true,
     "schema_version": 3,
     "solution": false
    }
   },
   "source": [
    "**Sample output:**\n",
    "```\n",
    "user 0 has not rated item 8\n",
    "k: 50 with_deviations: True with_abs_sim: True\n",
    "prediction 3.0427 (user_avg 3.7429 offset -0.7001)\n",
    "user 22 has not rated item 35\n",
    "k: 50 with_deviations: True with_abs_sim: True\n",
    "prediction 4.2453 (user_avg 3.9412 offset 0.3042)\n",
    "CPU times: user 414 ms, sys: 159 ms, total: 572 ms\n",
    "Wall time: 581 ms\n",
    "done!\n",
    "\n",
    "```"
   ]
  },
  {
   "cell_type": "code",
   "execution_count": null,
   "metadata": {
    "deletable": false,
    "editable": false,
    "nbgrader": {
     "cell_type": "code",
     "checksum": "a328c7f948b4be37544beec23aa212d2",
     "grade": false,
     "grade_id": "cell-589ac670849b5747",
     "locked": true,
     "schema_version": 3,
     "solution": false
    }
   },
   "outputs": [],
   "source": [
    "k = 50\n",
    "with_deviations = False\n",
    "with_abs_sim = False\n",
    "predict_rating(0, 12)\n",
    "%time predict_rating(22, 35)\n",
    "\n",
    "print(\"done!\")"
   ]
  },
  {
   "cell_type": "markdown",
   "metadata": {
    "deletable": false,
    "editable": false,
    "nbgrader": {
     "cell_type": "markdown",
     "checksum": "d5157988d6c656d8e47acdd09e041740",
     "grade": false,
     "grade_id": "cell-9fec1ba2931aad66",
     "locked": true,
     "schema_version": 3,
     "solution": false
    }
   },
   "source": [
    "**Sample output:**\n",
    "```\n",
    "user 0 has not rated item 12\n",
    "k: 50 with_deviations: False with_abs_sim: False\n",
    "prediction 3.2975 (user_avg 3.7429)\n",
    "user 22 has not rated item 35\n",
    "k: 50 with_deviations: False with_abs_sim: False\n",
    "prediction 3.9419 (user_avg 3.9412)\n",
    "CPU times: user 393 ms, sys: 149 ms, total: 542 ms\n",
    "Wall time: 544 ms\n",
    "done!\n",
    "\n",
    "```"
   ]
  },
  {
   "cell_type": "code",
   "execution_count": null,
   "metadata": {
    "deletable": false,
    "editable": false,
    "nbgrader": {
     "cell_type": "code",
     "checksum": "f21a75fdbaf7ec9192d6f6f2965a532a",
     "grade": true,
     "grade_id": "cell-a635a68173639e59",
     "locked": true,
     "points": 0,
     "schema_version": 3,
     "solution": false,
     "task": false
    }
   },
   "outputs": [],
   "source": [
    "# Hidden"
   ]
  },
  {
   "cell_type": "code",
   "execution_count": null,
   "metadata": {},
   "outputs": [],
   "source": [
    "def predict_user(u_id, items = range(100), with_abs_sim = False, with_deviations = False):\n",
    "    return(list(map(lambda x: predict_rating(0, x), items)))"
   ]
  },
  {
   "cell_type": "code",
   "execution_count": null,
   "metadata": {},
   "outputs": [],
   "source": [
    "user0 = predict_user(0, items = range(100))"
   ]
  },
  {
   "cell_type": "code",
   "execution_count": null,
   "metadata": {},
   "outputs": [],
   "source": [
    "with open('user_0_100.txt','w') as f:\n",
    "  f.write('\\n'.join(map(str, user0)))"
   ]
  },
  {
   "cell_type": "code",
   "execution_count": null,
   "metadata": {},
   "outputs": [],
   "source": [
    "# feel free to use this field for additional tests"
   ]
  },
  {
   "cell_type": "code",
   "execution_count": null,
   "metadata": {},
   "outputs": [],
   "source": [
    "# feel free to use this field for additional tests"
   ]
  },
  {
   "cell_type": "code",
   "execution_count": null,
   "metadata": {},
   "outputs": [],
   "source": [
    "# feel free to use this field for additional tests"
   ]
  }
 ],
 "metadata": {
  "kernelspec": {
   "display_name": "Python 3",
   "language": "python",
   "name": "python3"
  },
  "language_info": {
   "codemirror_mode": {
    "name": "ipython",
    "version": 3
   },
   "file_extension": ".py",
   "mimetype": "text/x-python",
   "name": "python",
   "nbconvert_exporter": "python",
   "pygments_lexer": "ipython3",
   "version": "3.7.4"
  }
 },
 "nbformat": 4,
 "nbformat_minor": 4
}
